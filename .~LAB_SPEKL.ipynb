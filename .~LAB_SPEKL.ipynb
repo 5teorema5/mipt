{
 "cells": [
  {
   "cell_type": "markdown",
   "id": "1adb7f46-b9a7-43d2-b255-432d62025407",
   "metadata": {},
   "source": [
    "# Работа О.3. Дифракция на шероховатой поверхности\n",
    "#### (по курсу \"Цифровизация физических процессов\")\n"
   ]
  },
  {
   "cell_type": "markdown",
   "id": "38bf40a1",
   "metadata": {},
   "source": [
    "### 0. Подготовка к работе\n",
    "#### Импорт библиотек"
   ]
  },
  {
   "cell_type": "code",
   "execution_count": null,
   "id": "cd5968e3",
   "metadata": {},
   "outputs": [],
   "source": [
    "import numpy as np\n",
    "from PIL import Image\n",
    "from glob import glob\n",
    "from matplotlib import pyplot as plt\n",
    "from scipy.optimize import curve_fit\n",
    "from IPython.display import display, Math, Latex\n",
    "import os\n",
    "plt.rcParams['figure.dpi'] = 100 # размер изображений и графиков\n",
    "\n",
    "# словари для сохранения результатов расчётов\n",
    "results_ind = {}\n",
    "results_cov = {}"
   ]
  },
  {
   "cell_type": "markdown",
   "id": "ce136434",
   "metadata": {},
   "source": [
    "#### Рабочая папка\n",
    "Задайте имя рабочей папки в переменной FOLDER. Папка должна располагаться внутри папки \"Рабочий стол\\спеклы\\\"."
   ]
  },
  {
   "cell_type": "code",
   "execution_count": null,
   "id": "cc764fd4",
   "metadata": {},
   "outputs": [],
   "source": [
    "# Задайте имя рабочей папки (используйте шаблон Группа_Фамилия) \n",
    "# Например: 'Б01-001_Иванов'\n",
    "FOLDER = '1-001_Иванов'\n",
    "\n",
    "# формат изображений\n",
    "IMGFORMAT = 'png'\n",
    "\n",
    "WD = os.path.join(os.environ['USERPROFILE'], 'Desktop', 'спеклы', FOLDER)\n",
    "if os.path.exists(WD):\n",
    "    print('Обнаружена рабочая папка:\\n', WD)\n",
    "    print(f'Список файлов (изображения *.{IMGFORMAT}):')\n",
    "    FILELIST = [os.path.basename(f) for f in glob(os.path.join(WD, '*.' + IMGFORMAT))]\n",
    "    FILELIST.sort()\n",
    "    print('\\n'.join([f'{i}: {f}' for i, f in enumerate(FILELIST)]))\n",
    "else:\n",
    "    print(f'Ошибка! Папка {WD} не существует! Поместите фотографии спеклов\\n'\n",
    "          f'в папку \"Рабочий стол\\\\спеклы\\\\[Группа_Фамилия]\" и перезапустите блок')\n",
    "    raise RuntimeError"
   ]
  },
  {
   "cell_type": "markdown",
   "id": "9bafeb98",
   "metadata": {},
   "source": [
    "#### Функции обработки изображений"
   ]
  },
  {
   "cell_type": "code",
   "execution_count": null,
   "id": "e87a8c56",
   "metadata": {},
   "outputs": [],
   "source": [
    "def get_image(filename):\n",
    "    ''' Получить изображение из файла и преобразовать его красный канал в 2D-массив'''\n",
    "    with Image.open(os.path.join(WD, filename)) as img:\n",
    "        print('\\n\\n')\n",
    "        print(\"Исходное изображение: \", filename)\n",
    "        plt.imshow(img)\n",
    "        plt.show()\n",
    "    return np.array(img)[:,:,0] # используем только *красный* канал\n",
    "\n",
    "\n",
    "def get_center(data):\n",
    "    ''' Определить \"центр масс\" изображения'''\n",
    "    Y = np.arange(data.shape[0]) # Y -- строки\n",
    "    X = np.arange(data.shape[1]) # X -- столбцы\n",
    "    S = np.sum(data)\n",
    "    X0 = round(X @ np.sum(data, axis=0) / S)\n",
    "    Y0 = round(Y @ np.sum(data, axis=1) / S)\n",
    "    print(f\"Центр: {X0 = }, {Y0 = }\")\n",
    "    return X0, Y0\n",
    "\n",
    "\n",
    "def crop_centered(data, mass=False, less=0):\n",
    "    ''' Вырезать из изображения квдрат по центру\n",
    "\n",
    "        mass: если True, вычислить положение центра масс, иначе использовать геометрический центр\n",
    "        less: количество пикселей, на которое уменьшить размер обрезающего квадрата \n",
    "    '''\n",
    "    NY, NX = data.shape\n",
    "    if mass:\n",
    "        # координаты \"центра масс\"\n",
    "        X0, Y0 = get_center(data)\n",
    "    else:\n",
    "        # взять геометрический центр рамки\n",
    "        X0 = NX // 2\n",
    "        Y0 = NY // 2\n",
    "    W = min(X0, Y0, NX - X0, NY - Y0) - less\n",
    "    print(f\"Ширина = {2 * W}\")\n",
    "    y1 = Y0 - W\n",
    "    y2 = Y0 + W\n",
    "    x1 = X0 - W\n",
    "    x2 = X0 + W\n",
    "    print(f\"Обрезка: [{y1}:{y2}, {x1}:{x2}]\")\n",
    "    cropped = data[y1:y2, x1:x2]\n",
    "    \n",
    "    print(\"Обрезанное изображение:\")\n",
    "    plt.imshow(cropped, cmap='gray')\n",
    "    plt.show()\n",
    "    plt.title(\"Гистограмма\")\n",
    "    plt.hist(data.flatten(), bins=256, histtype='step', log=True)\n",
    "    plt.show()\n",
    "    return cropped"
   ]
  },
  {
   "cell_type": "markdown",
   "id": "4bd7f8cd",
   "metadata": {},
   "source": [
    "## 1. Вычисление радиуса индикатрисы"
   ]
  },
  {
   "cell_type": "markdown",
   "id": "f5731aed",
   "metadata": {},
   "source": [
    "#### Функция вычисления индикатрисы"
   ]
  },
  {
   "cell_type": "code",
   "execution_count": null,
   "id": "f232f363",
   "metadata": {},
   "outputs": [],
   "source": [
    "def indicatrice(data, name=''):\n",
    "    ''' Усреднение интенсивности как функции радиуса;\n",
    "        Построение графика в координатах log I (r^2) и определение наклона наилучшей прямой.\n",
    "    '''\n",
    "    NN = 100 # число разбиений по радиусу\n",
    "    X0 = data.shape[1] // 2\n",
    "    Y0 = data.shape[0] // 2\n",
    "    R2 = np.linspace(0., X0**2, NN + 1, dtype=int)\n",
    "    I = np.zeros(NN - 1, dtype=np.int64)\n",
    "    sigmaI = np.zeros(NN - 1, dtype=float)\n",
    "    print('Подготавливаем данные...')\n",
    "    \n",
    "    # квадраты координат (относительно центра)\n",
    "    dx2 = np.arange(-X0, X0, dtype=np.int64)**2\n",
    "    dy2 = np.arange(-X0, X0, dtype=np.int64)**2\n",
    "    \n",
    "    # квадраты радиусов всех точек (матрица a x a)\n",
    "    dr2 = dx2[:, np.newaxis] + dy2[np.newaxis, :]\n",
    "    \n",
    "    # раскладка радиусов по \"корзинам\"\n",
    "    R2n = np.digitize(dr2, bins=R2)\n",
    "    R2 = R2[:-2] # обрезаем точки, выпадающие за максимальный радиус\n",
    "    \n",
    "    # Суммирование статистики:\n",
    "    # определяем, к какому диапазону радиусов принадлежит каждая точка и добавляем туда её интенсивность \n",
    "    print('Суммируем статистику...')\n",
    "    statI = {}\n",
    "    for i in range(data.size):         \n",
    "        n = R2n.flat[i] - 1\n",
    "        if n < NN - 1: # отбрасываем точки за пределами большого круга            \n",
    "            if n in statI:\n",
    "                statI[n].append(int(data.flat[i]))\n",
    "            else:\n",
    "                statI[n] = [int(data.flat[i])]\n",
    "\n",
    "    for n in statI.keys():\n",
    "        I[n] = np.mean(statI[n]) # средняя интенсивность в ячейке n\n",
    "        sigmaI[n] = np.std(statI[n]) / np.sqrt(len(statI[n])) # среднеквадратичное отклонение\n",
    "    \n",
    "    print('Строим график:')\n",
    "    logI = np.log(I)\n",
    "    # погрешности \n",
    "    sigma_logI = sigmaI / I\n",
    "    sigma_R = 1  # +- пиксель\n",
    "    sigma_R2 = 2 * np.sqrt(R2) * sigma_R  # sigma(x^2) = 2 * x * sigma(x) \n",
    "    \n",
    "    # аппроксимируем график функцией вида log I = k * r^2 + b\n",
    "    func = lambda x, k, b: k * x + b\n",
    "    popt, pcov = curve_fit(func, R2, logI, sigma = sigma_logI)    \n",
    "    # погрешность углового коэффициента\n",
    "    sigma_k = np.sqrt(pcov[0,0])\n",
    "\n",
    "    plt.title(f\"Зависимость логарифма интенсивности от квадрата радиуса ({name})\")\n",
    "    plt.xlabel(\"$R^2$\")\n",
    "    plt.ylabel(\"log I\")\n",
    "    plt.errorbar(R2, logI, xerr=sigma_R2, yerr=sigma_logI, fmt='none')\n",
    "    #plt.plot(R2, logI, '.')\n",
    "    plt.plot(R2, func(R2, *popt), 'r-')\n",
    "    plt.show()\n",
    "    plt.hist\n",
    "    \n",
    "    print(\"Угловой коэффициент:\")\n",
    "    print(f\"k = {popt[0]:.3e} +- {sigma_k:.1e} ({np.abs(sigma_k/popt[0]) * 100:.1f}%)\")\n",
    "    \n",
    "    return popt[0], sigma_k"
   ]
  },
  {
   "cell_type": "markdown",
   "id": "e9e4a7aa",
   "metadata": {},
   "source": [
    "#### Расчёт радиусов индикатрисы\n",
    "\n",
    "Введите список фалов для вычисления индикатрисы (мелкие спеклы) в переменную IND_FILES и запустите блок.\n",
    "\n",
    "Изучите вид полученных графиков. Если результаты удовлетворительно аппроксимируются теоретической кривой $y=Ae^{kx^2}$ ($\\log y = k x^2 + b$), запишите значение углового коэффициента $k$ и его погрешность $\\sigma_k$. Результаты сохраняются в переменной results_ind"
   ]
  },
  {
   "cell_type": "code",
   "execution_count": null,
   "id": "684fbdfd",
   "metadata": {},
   "outputs": [],
   "source": [
    "# Введите список НОМЕРОВ файлов изображений для вычисления индикатрисы мелких спектров\n",
    "IND_FILES = [0, ]\n",
    "\n",
    "IND_FILENAMES = [FILELIST[i] for i in IND_FILES]\n",
    "print(\"Файлы: \", IND_FILENAMES)\n",
    "for f in IND_FILENAMES:\n",
    "    results_ind[f] = indicatrice(crop_centered(get_image(f), mass=True), name=f)"
   ]
  },
  {
   "cell_type": "code",
   "execution_count": null,
   "id": "acece830",
   "metadata": {},
   "outputs": [],
   "source": [
    "print(results_ind)"
   ]
  },
  {
   "cell_type": "markdown",
   "id": "be22ab36",
   "metadata": {},
   "source": [
    "### Задание для самостоятельной обработки\n",
    "* По найденным значениям $k$ вычислите радиусы индикатрисы $\\rho_i$ в пикселях и его погрешность $\\sigma_{\\rho_i}$\n",
    "* Пересчитайте размеры в пикселях в реальные линейные размеры (мм)\n",
    "* Определите радиус корреляции фазы $\\rho_A$ и его погрешность $\\sigma_{\\rho_A}$\n",
    "* Определите степень шероховатости пластинки $\\zeta$"
   ]
  },
  {
   "cell_type": "code",
   "execution_count": null,
   "id": "e0cbcf0a",
   "metadata": {},
   "outputs": [],
   "source": []
  },
  {
   "cell_type": "markdown",
   "id": "a6ff8117",
   "metadata": {},
   "source": [
    "## 2. Вычисление функции и радиуса корреляции\n",
    "##### Загрузка изображения\n",
    "Введите имя файла filename изображения для расчёта радиуса корреляции картины. \n",
    "\n",
    "Проведите расчёт отдельно для каждого файла."
   ]
  },
  {
   "cell_type": "code",
   "execution_count": null,
   "id": "86f95dbd",
   "metadata": {},
   "outputs": [],
   "source": [
    "# введите номер файла в списке файлов рабочей папки\n",
    "filename = FILELIST[0]\n",
    "\n",
    "# Загрузка и обрезка изображения\n",
    "M = crop_centered(get_image(filename), mass=False).astype(np.int32)"
   ]
  },
  {
   "cell_type": "markdown",
   "id": "834e7260",
   "metadata": {},
   "source": [
    "### 2.1 Расчёт функции корреляции\n",
    "##### Функция  корреляции"
   ]
  },
  {
   "cell_type": "code",
   "execution_count": null,
   "id": "be3e42f4",
   "metadata": {},
   "outputs": [],
   "source": [
    "# Параметры расчёта\n",
    "MIN_RHO = 10      # минимальное смещение (по умолчанию 10)\n",
    "MAX_RHO = 100     # максимальное смещение (по умолчанию 100)\n",
    "MIN_GAMMA = 0.2   # минимальный порог значения функции корреляции (по умолчанию 0.2)\n",
    "    \n",
    "def shift_matrix(M, dr):\n",
    "    ''' Смещение матрицы на вектор dr = (dx, dy) с обрезанием.\n",
    "        Возвращает пару (M1, M2), где M1 -- смещённая матрица, M2 -- исходная обрезанная матрица. \n",
    "    '''\n",
    "    dx, dy = dr\n",
    "    if dx < 0 or dy < 0 or dx > M.shape[0] or dy > M.shape[1]:\n",
    "        raise ValueError\n",
    "    return M[dx:, dy:], M[:M.shape[0] - dx, :M.shape[1] - dy]\n",
    "    \n",
    "    \n",
    "def correlation(M, direction):\n",
    "    ''' Расчёт степени корреляции gamma(rho).\n",
    "        Возвращает два массива точек (rho, gamma)\n",
    "    '''\n",
    "    N = (MAX_RHO + 1) // max(direction)\n",
    "    \n",
    "    # создаем массив из векторов смещений\n",
    "    # Пример: direction = [1,2] -> dr = [[0,0], [1,2], [2,4], [3,6], ...]\n",
    "    dr = np.array(direction) * np.arange(N)[:, np.newaxis]\n",
    "    \n",
    "    # Радиусы смещений\n",
    "    rho = np.sqrt(dr[:,0]**2 + dr[:,1]**2)\n",
    "    \n",
    "    gamma = np.zeros(N, dtype=float)\n",
    "    gamma[0] = 1.0\n",
    "\n",
    "    meanM = np.mean(M) # среднее\n",
    "    varM = np.var(M)   # дисперсия\n",
    "    dM = M - meanM     # отклонение\n",
    "    i = 0\n",
    "    while i < N - 1:\n",
    "        i += 1\n",
    "        # смещение по X\n",
    "        dM1, dM2 = shift_matrix(dM, dr[i])\n",
    "        gamma[i] = np.mean(dM1 * dM2) / np.var(dM1)\n",
    "        if (gamma[i] < MIN_GAMMA and rho[i] > MIN_RHO):\n",
    "            break\n",
    "    return rho[:i], gamma[:i]"
   ]
  },
  {
   "cell_type": "markdown",
   "id": "0a834516",
   "metadata": {},
   "source": [
    "#### Вычисление функции корреляции\n",
    "Функция корреляции вычисляется по 3-м осям: смещение вдоль оси $x$, вдоль оси $y$ и вдоль диагонали $x=y$"
   ]
  },
  {
   "cell_type": "code",
   "execution_count": null,
   "id": "562c409e",
   "metadata": {},
   "outputs": [],
   "source": [
    "CORRELATIONS = [(correlation(M, (0, 1)), 'v', 'смещение по X'),\n",
    "                (correlation(M, (1, 0)), '^', 'смещение по Y'),\n",
    "                (correlation(M, (1, 1)), '>', 'смещение по X = Y'),]\n",
    "for (X, Y), marker, label in CORRELATIONS:\n",
    "    plt.plot(X, Y, marker + '--', label=label)\n",
    "plt.title(f\"Зависимость степени корреляции от смещения ({filename})\")\n",
    "plt.xlabel(r\"$\\rho$, [пикс]\")\n",
    "plt.ylabel(r\"$\\gamma$\")\n",
    "plt.xlim(0)\n",
    "plt.legend()\n",
    "plt.show()"
   ]
  },
  {
   "cell_type": "markdown",
   "id": "5d7ad031",
   "metadata": {},
   "source": [
    "### 2.2 Расчёт радиуса корреляции\n",
    "Каждая функция корреляции $\\gamma(\\rho)$ аппроксимируется гауссовой кривой $\\gamma=Ae^{k\\rho^2}$ ($\\log \\gamma = k\\rho^2 + b$).\n",
    "\n",
    "Реализована возможность исключить из расчёта несколько начальных (малые $\\rho$) и конечных (большие $\\rho$) точек.\n",
    "\n",
    "##### Функция аппроксимации"
   ]
  },
  {
   "cell_type": "code",
   "execution_count": null,
   "id": "d9f19645",
   "metadata": {},
   "outputs": [],
   "source": [
    "def approximate(x, y, label=''):\n",
    "    cut_start = 0  # обрезка в начале\n",
    "    cut_end = 0    # обрезка в конце\n",
    "    while True:\n",
    "        x_cut = x[cut_start:x.size - cut_end]\n",
    "        y_cut = y[cut_start:y.size - cut_end]\n",
    "        \n",
    "        # аппроксимируем график функцией вида Y = k * X + b\n",
    "        popt, pcov = curve_fit(lambda X, k, b: k * X + b, x_cut, y_cut)\n",
    "        # погрешность углового коэффициента (по МНК)\n",
    "        sigma_k = np.sqrt(pcov[0,0])\n",
    "\n",
    "        plt.plot(x_cut, y_cut, '+')\n",
    "        plt.plot(x_cut, popt[0] * x_cut + popt[1])\n",
    "        plt.xlabel(r'$\\rho^2$')\n",
    "        plt.ylabel(r'$\\log \\gamma$')\n",
    "        plt.title(f'Функция корреляции ({filename}:{label}, обрезка [{cut_start}:-{cut_end}])')\n",
    "        plt.show()\n",
    "\n",
    "        print(f\"k = {popt[0]:.3e} +- {sigma_k:.1e} ({np.abs(sigma_k/popt[0]) * 100:.1f}%)\")\n",
    "\n",
    "        try:\n",
    "            print(\"\\nУточнение расчёта. Чтобы завершить расчёт, оставьте поле ввода пустым и нажмите Enter\")\n",
    "            print(\"(чтобы вернуть точки, введите отрицательное число)\")\n",
    "            cut_start += int(input(\"Сколько точек убрать в начале (слева)? \"))\n",
    "            cut_end += int(input(\"Сколько точек убрать в конце (справа)? \"))\n",
    "        except ValueError:  # закончить, если введено не число или пустая строка\n",
    "            break\n",
    "            \n",
    "    print(\"Аппроксимация завершена.\\n\\n\")\n",
    "    return popt[0], sigma_k"
   ]
  },
  {
   "cell_type": "markdown",
   "id": "8d5c76d2",
   "metadata": {},
   "source": [
    "#### Запуск расчёта\n",
    "Для каждой полученной выше функции корреляции определяется наилучший угловой коэффициент прямой.\n",
    "\n",
    "Рассмотрите получающиеся графики и качественно сделайте вывод о том, насколько хорошо они могут быть приближены прямой линией. \n",
    "\n",
    "Если точки плохо ложаться на прямую, следуя инструкциям, задайте ограничения диапазона точек (обрезку слева и справа), используемых при аппроксимации. \n",
    "\n",
    "**Замечание**. Для получения корректных результатов наклон следует определять в пределе _малых_ $\\rho$. Точки слева (в начале графика) рекомендуется отбрасывать, только если на изображении спеклов видны мелкомасштабные интерференционные полосы.  "
   ]
  },
  {
   "cell_type": "code",
   "execution_count": null,
   "id": "03326721",
   "metadata": {},
   "outputs": [],
   "source": [
    "if filename in results_cov:\n",
    "    print(f\"Внимание: результаты расчёта для {filename} будут перезаписаны\")\n",
    "    if input(\"Продолжить (Д/н)?\").upper() in ['Н', 'N']:\n",
    "        raise RuntimeError\n",
    "\n",
    "results_cov[filename] = []\n",
    "current_results = results_cov[filename]\n",
    "for (RHO, GAMMA), _, label in CORRELATIONS:\n",
    "    print(\"-----------------------------------------------------\")\n",
    "    print(f'Расчёт функции корреляции ln Г(rho^2) для \"{label}\"')\n",
    "    current_results.append(approximate(RHO**2, np.log(GAMMA), label))\n",
    "print(\"***************\")\n",
    "print(\"Результаты:\")\n",
    "k = np.array(current_results)[:,0]\n",
    "sigma_k = np.array(current_results)[:, 1]\n",
    "for i in range(len(current_results)):\n",
    "    print(f\"{CORRELATIONS[i][2]}:\\t k = {k[i]:.3e} +- {sigma_k[i]:.1e}\")\n",
    "\n",
    "mean_k = np.mean(k)\n",
    "var_k = np.var(k)\n",
    "sigma_mean_k = np.sqrt(var_k + sigma_k @ sigma_k)\n",
    "current_results.append((mean_k, sigma_mean_k))\n",
    "print(f'Среднее: <k> = {mean_k:.3e} +- {sigma_mean_k:.1e}')"
   ]
  },
  {
   "cell_type": "code",
   "execution_count": null,
   "id": "469d4a31",
   "metadata": {},
   "outputs": [],
   "source": [
    "print(results_cov)"
   ]
  },
  {
   "cell_type": "markdown",
   "id": "42cc386f",
   "metadata": {},
   "source": [
    "### Задание для самостоятельной обработки\n",
    "* По найденным значениям $k$ вычислите радиусы корреляции $\\rho_{с}$ в пикселях и погрешности $\\sigma_{\\rho_{с}}$\n",
    "* Пересчитайте размеры в пикселях в реальные линейные размеры (мм)\n",
    "* Определите диаметр лазерного луча $D$ и погрешность $\\sigma_D$\n",
    "* Проанализируйте зависимость диаметра луча $D$ от расстояния $L_1$ между пластинкой и фокусом линзы"
   ]
  },
  {
   "cell_type": "code",
   "execution_count": null,
   "id": "499f0c73",
   "metadata": {},
   "outputs": [],
   "source": []
  }
 ],
 "metadata": {
  "kernelspec": {
   "display_name": "Python 3 (ipykernel)",
   "language": "python",
   "name": "python3"
  },
  "language_info": {
   "codemirror_mode": {
    "name": "ipython",
    "version": 3
   },
   "file_extension": ".py",
   "mimetype": "text/x-python",
   "name": "python",
   "nbconvert_exporter": "python",
   "pygments_lexer": "ipython3",
   "version": "3.11.4"
  }
 },
 "nbformat": 4,
 "nbformat_minor": 5
}
